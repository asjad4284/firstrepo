{
 "cells": [
  {
   "cell_type": "markdown",
   "id": "667d2296-6cad-4605-94fe-5d3065e8f687",
   "metadata": {},
   "source": [
    "# Data Science Tools and Ecosystem"
   ]
  },
  {
   "cell_type": "markdown",
   "id": "8f9cc967-e4ba-4dd6-a53d-c9554a166dab",
   "metadata": {},
   "source": [
    "## In this notebook, Data Science Tools and Ecosystem are summarized."
   ]
  },
  {
   "cell_type": "markdown",
   "id": "757fadc6-cdca-4367-a9bf-d17c3a486459",
   "metadata": {},
   "source": [
    "## Objectives:\n",
    "* Data Science & its importance\n",
    "* Define some of commonly used terms in DS\n",
    "* Key qualities of successful DS"
   ]
  },
  {
   "cell_type": "markdown",
   "id": "86bb93b2-ad5c-4f5a-9ac3-788eb440df88",
   "metadata": {},
   "source": [
    "### Some of the popular languages that Data Scientists use are:\n",
    "1. Python\n",
    "2. SQL\n",
    "3. R"
   ]
  },
  {
   "cell_type": "markdown",
   "id": "310aa5b8-2a48-4e2b-a5b4-6c735f174f13",
   "metadata": {},
   "source": [
    "### Some of the commonly used libraries used by Data Scientists include:\n",
    "1. Numpy\n",
    "2. Pandas\n",
    "3. Matplotlib"
   ]
  },
  {
   "cell_type": "markdown",
   "id": "1b86e88a-5cb2-4745-9b7b-1e13c02f9f32",
   "metadata": {},
   "source": [
    "|Data Science Tools|\n",
    "|------------------|\n",
    "|Jupyter lab|\n",
    "|VS code|\n",
    "|SPYDER|"
   ]
  },
  {
   "cell_type": "markdown",
   "id": "4495d410-85ad-41b8-934d-df329c373099",
   "metadata": {},
   "source": [
    "### Below are a few examples of evaluating arithmetic expressions in Python."
   ]
  },
  {
   "cell_type": "code",
   "execution_count": 3,
   "id": "cbf46f79-4b55-4ce2-b528-a6f17a25d01d",
   "metadata": {},
   "outputs": [
    {
     "data": {
      "text/plain": [
       "17"
      ]
     },
     "execution_count": 3,
     "metadata": {},
     "output_type": "execute_result"
    }
   ],
   "source": [
    "# This a simple arithmetic expression to mutiply then add integers\n",
    "(3*4)+5"
   ]
  },
  {
   "cell_type": "code",
   "execution_count": 7,
   "id": "3cd7172d-4b59-4de2-964c-e8a28cf2ddce",
   "metadata": {},
   "outputs": [
    {
     "name": "stdout",
     "output_type": "stream",
     "text": [
      "3 hours 20 minutes\n"
     ]
    }
   ],
   "source": [
    "# This will convert 200 minutes to hours by diving by 60\n",
    "a=int(200/60)\n",
    "b=200%60\n",
    "print(a,\"hours\",b,\"minutes\")"
   ]
  },
  {
   "cell_type": "markdown",
   "id": "a0f1f585-b693-4384-a05a-4b782a2598b4",
   "metadata": {},
   "source": [
    "## Author\n",
    "Asjad"
   ]
  },
  {
   "cell_type": "code",
   "execution_count": null,
   "id": "7a825883-46da-4ebc-b82f-c7e4823a52e6",
   "metadata": {},
   "outputs": [],
   "source": []
  }
 ],
 "metadata": {
  "kernelspec": {
   "display_name": "Python 3 (ipykernel)",
   "language": "python",
   "name": "python3"
  },
  "language_info": {
   "codemirror_mode": {
    "name": "ipython",
    "version": 3
   },
   "file_extension": ".py",
   "mimetype": "text/x-python",
   "name": "python",
   "nbconvert_exporter": "python",
   "pygments_lexer": "ipython3",
   "version": "3.12.8"
  }
 },
 "nbformat": 4,
 "nbformat_minor": 5
}
